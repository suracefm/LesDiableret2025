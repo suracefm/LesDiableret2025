{
 "cells": [
  {
   "cell_type": "code",
   "execution_count": 1,
   "id": "58d133b4-f9b1-49ed-bf75-7b4732284751",
   "metadata": {},
   "outputs": [],
   "source": [
    "import numpy as np\n",
    "import matplotlib.pyplot as plt\n",
    "from EDnosym import operator\n",
    "from scipy.special import binom, erf"
   ]
  },
  {
   "cell_type": "markdown",
   "id": "418b0d95-aacf-46f7-aa97-97684a962633",
   "metadata": {},
   "source": [
    "# Exercise 2: Many-body spectrum and thermodynamics"
   ]
  },
  {
   "cell_type": "markdown",
   "id": "280db741-af3a-4644-b22e-ac74dee7443f",
   "metadata": {},
   "source": [
    "The off-diagonal matrix elements in the eigenstate thermalization hypothesis depend on a quantity called the thermodynamic entropy $S(E)$. In this exercise, we will analyse this quantity, and other thermodynamic properties of a many-body spectrum."
   ]
  },
  {
   "cell_type": "markdown",
   "id": "12bbe4a1-8fd3-4086-8df6-cb71206cee60",
   "metadata": {},
   "source": [
    "## Computing the many-body spectrum"
   ]
  },
  {
   "cell_type": "markdown",
   "id": "48b5d36a-900d-48d1-9cc8-d7caf7592f64",
   "metadata": {},
   "source": [
    "We consider the same model studied in Exercise 1, namely, the mixed-field quantum Ising chain:\n",
    "\\begin{equation}\n",
    "H=\\sum_{j=0}^{L-1} (-JZ_j Z_{j+1}-gX_j-hZ_j).\n",
    "\\end{equation}"
   ]
  },
  {
   "cell_type": "code",
   "execution_count": 2,
   "id": "7f7a69bf-0d1f-4349-87c9-137e261bfbf3",
   "metadata": {},
   "outputs": [],
   "source": [
    "X = np.array([[0,1],\\\n",
    "              [1,0]])\n",
    "Z = np.array([[1,0],\\\n",
    "              [0,-1]])"
   ]
  },
  {
   "cell_type": "code",
   "execution_count": 3,
   "id": "809cbb2b-8d28-44b5-b8e3-06544fee4c39",
   "metadata": {},
   "outputs": [],
   "source": [
    "J, g, h = 1, 0.9045, 0.890 # Hamiltonian parameters"
   ]
  },
  {
   "cell_type": "markdown",
   "id": "26b8e180-43e1-4feb-88e4-e1eaa89a3978",
   "metadata": {},
   "source": [
    "We analyse the spectrum for different system sizes. Let's start by computing the spectra (as we did in Exercise 1), and storing them in a dictionary for easy reference."
   ]
  },
  {
   "cell_type": "code",
   "execution_count": 106,
   "id": "0a40af33-045c-4761-8d48-18c1428a3acf",
   "metadata": {},
   "outputs": [],
   "source": [
    "spectra = {}\n",
    "for L in [6, 8, 10, 12]:\n",
    "    H = -J*sum([operator(sites = [j,(j+1)%L], matrices = [Z, Z], L = L) for j in range(L)])\n",
    "    H += # <-------\n",
    "    H += # <-------\n",
    "    Hdense = H.toarray()\n",
    "    spectra[L] = np.linalg.eigvalsh(Hdense)"
   ]
  },
  {
   "cell_type": "markdown",
   "id": "2979b120-a972-4a8a-b710-f8c56b120fbb",
   "metadata": {},
   "source": [
    "## Density of states"
   ]
  },
  {
   "cell_type": "markdown",
   "id": "597c7f88-65f9-4831-a3ca-24d1d29d215c",
   "metadata": {},
   "source": [
    "The density of states is defined as\n",
    "\\begin{equation}\n",
    "\\rho(E)=\\sum_{n=1}^D \\delta(E-E_n).\n",
    "\\end{equation}\n",
    "where $D=2^L$ is the Hilbert space dimension.\n",
    "It is often useful to consider the number $N(E)$ of eigenstates with energy less than $E$. For large systems, this becomes a smooth function, and the density of states can be equivalently defined as\n",
    "\\begin{equation}\n",
    "\\rho(E) \\propto \\frac{d N(E)}{dE}.\n",
    "\\end{equation}"
   ]
  },
  {
   "cell_type": "markdown",
   "id": "fef27169-2763-43ee-94bc-ba766b14d0a1",
   "metadata": {},
   "source": [
    "Plot the function $N(E)$."
   ]
  },
  {
   "cell_type": "code",
   "execution_count": null,
   "id": "4d9a860b-181e-446c-8814-24e1758b7b07",
   "metadata": {},
   "outputs": [],
   "source": []
  },
  {
   "cell_type": "markdown",
   "id": "c60092e7-6590-404f-aa2b-d81e6d3829e7",
   "metadata": {},
   "source": [
    "Compute analytically the average energy $\\overline{E} = D^{-1} \\int \\rho(E) E dE=D^{-1}\\sum_j E_j$ and the variance $\\sigma^2 = D^{-1}\\int \\rho(E) (E-\\overline{E})^2 dE=D^{-1}\\sum_j (E_j-\\overline{E})^2$ for the mixed-field quantum Ising chain, and check it against the numerics."
   ]
  },
  {
   "cell_type": "markdown",
   "id": "e7080ad9-1706-4bed-a8d8-0deb652edd5e",
   "metadata": {},
   "source": [
    "Hint:\n",
    "<span style=\"color:white\"> Use that $\\sum_j E_j=\\mathrm{Tr}[H]$ and $\\sum_j E_j^2=\\mathrm{Tr}[H^2]$.</span>"
   ]
  },
  {
   "cell_type": "markdown",
   "id": "d1d48900-8a28-415e-a897-c69a7d519713",
   "metadata": {},
   "source": [
    "Solution:\n",
    "*Write here your solution*"
   ]
  },
  {
   "cell_type": "markdown",
   "id": "5c51f3fb-0177-4555-ba4b-8f018c9cb5fa",
   "metadata": {},
   "source": []
  },
  {
   "cell_type": "code",
   "execution_count": null,
   "id": "1203ece0-c906-4e79-898b-512b03e59726",
   "metadata": {},
   "outputs": [],
   "source": []
  },
  {
   "cell_type": "markdown",
   "id": "664ea519-15b9-4946-9a97-f6e7f9d8a123",
   "metadata": {},
   "source": [
    "### Gaussian approximation"
   ]
  },
  {
   "cell_type": "markdown",
   "id": "88c80664-f26b-4b44-8d58-7cb39db128e2",
   "metadata": {},
   "source": [
    "For many systems, the density of states is expected to be approximately Gaussian:\n",
    "    \\begin{equation}\n",
    "    \\rho(E) \\approx D\\frac{1}{\\sqrt{2\\pi\\sigma^2}} e^{-(E-E_0)^2/2\\sigma^2}\n",
    "    \\end{equation}\n",
    "where $D=2^L$ is the Hilbert space dimension."
   ]
  },
  {
   "cell_type": "markdown",
   "id": "80a91bfb-bae5-419f-a82a-d070b7c7994e",
   "metadata": {},
   "source": [
    "This implies that\n",
    "\\begin{equation}\n",
    "\\frac{N(E)}{D}\\approx\\int_{-\\infty}^E dE' \\frac{1}{\\sqrt{2\\pi\\sigma^2}}e^{-(E'-\\overline{E})^2/2\\sigma^2}=\\Phi\\left(\\frac{E-\\overline{E}}{\\sigma}\\right),\n",
    "\\end{equation}\n",
    "where $\\Phi(x)$ is the cumulative distribution function of the normal distribution:\n",
    "\\begin{equation}\n",
    "\\Phi(x)=\\frac{1}{\\sqrt{2\\pi}} \\int_{-\\infty}^x dt\\, e^{-t^2/2}=\\frac{1}{2}\\left[ 1+\\mathrm{erf} \\left( \\frac{x}{\\sqrt{2}}\\right) \\right].\n",
    "\\end{equation}"
   ]
  },
  {
   "cell_type": "markdown",
   "id": "3ba9ed4d-9fb6-48d1-80a9-0239eb799629",
   "metadata": {},
   "source": [
    "Check this result, by plotting $N(E)/2^L$ vs $(E-\\overline{E})/\\sigma$ and comparing it with $\\Phi\\left(\\frac{E-\\overline{E}}{\\sigma}\\right)$ for $L=6,8,10,12$. (Use the values of $\\overline{E}$ and $\\sigma^2$ computed above)."
   ]
  },
  {
   "cell_type": "code",
   "execution_count": null,
   "id": "115088e5-cced-4749-9596-d4d95dcc7362",
   "metadata": {},
   "outputs": [],
   "source": []
  },
  {
   "cell_type": "markdown",
   "id": "0d6692c0-2f4c-4deb-8422-d45ede975bec",
   "metadata": {},
   "source": [
    "Plot the difference between $N(E)/D$ and its Gaussian approximation $\\Phi$"
   ]
  },
  {
   "cell_type": "code",
   "execution_count": null,
   "id": "915f5269-0a40-4d47-af1b-2b93ed5f4105",
   "metadata": {},
   "outputs": [],
   "source": []
  },
  {
   "cell_type": "markdown",
   "id": "90b3428a-00d9-4997-850f-de098c7eba28",
   "metadata": {},
   "source": [
    "We can analyse the density of states $\\rho(E)/D$ directly by plotting an histogram of the eigenvalues. Use plt.hist(..., histtype='step') and plot all the histograms of the rescaled quantity $(E-\\overline E)\\sigma$, with varying $L$, in the same figure. Compare it with the normal distribution."
   ]
  },
  {
   "cell_type": "code",
   "execution_count": null,
   "id": "f13a748f-24d7-4999-9838-cc4993ca2149",
   "metadata": {},
   "outputs": [],
   "source": []
  },
  {
   "cell_type": "markdown",
   "id": "b0126f27-e0d6-4eca-84a1-04f533dbd6aa",
   "metadata": {},
   "source": [
    "### Thermodynamic entropy and ensemble equivalence"
   ]
  },
  {
   "cell_type": "markdown",
   "id": "74b343f9-6462-40e8-916a-243f6b1beceb",
   "metadata": {},
   "source": [
    "The density of states $\\rho(E)$ grows exponentially with the system size. It is useful to define the quantity $S(E)=\\log \\rho(E)$, which then depends linearly on system size (is extensive), up to logarithimic corrections. This quantity is called the thermodynamic entropy."
   ]
  },
  {
   "cell_type": "markdown",
   "id": "5fa6df5f-ff35-4b92-b8ff-2003d94f3579",
   "metadata": {},
   "source": [
    "Compute the logarithmic corrections, assuming a Gaussian distribution for the density of states"
   ]
  },
  {
   "cell_type": "markdown",
   "id": "869ebded-640d-4156-a551-056851138ff0",
   "metadata": {},
   "source": [
    "Solution: *Write here your solution*"
   ]
  },
  {
   "cell_type": "markdown",
   "id": "5d806637-afa5-4399-97b4-f159a576be5e",
   "metadata": {},
   "source": []
  },
  {
   "cell_type": "markdown",
   "id": "411c3806-a04b-4712-9438-2181d23134e4",
   "metadata": {},
   "source": [
    "The inverse temperature is defined as $\\beta(E)=\\partial S/\\partial E$."
   ]
  },
  {
   "cell_type": "markdown",
   "id": "5b055330-c787-4cfb-a52c-2f136ef96da0",
   "metadata": {},
   "source": [
    "Find the expression of $\\beta(E)$ under the assumption of a Gaussian distribution."
   ]
  },
  {
   "cell_type": "markdown",
   "id": "925413aa-7600-47fc-8f0c-6cf006489a6b",
   "metadata": {},
   "source": [
    "Solution: *Write here your solution*"
   ]
  },
  {
   "cell_type": "markdown",
   "id": "1176f4b0-d08d-4ad7-91bb-7bd8cf839392",
   "metadata": {},
   "source": []
  },
  {
   "cell_type": "markdown",
   "id": "45655d60-95e9-4d5f-9b28-cc1eafb3ea87",
   "metadata": {},
   "source": [
    "The above definition is derived in the context of the <em> microcanonical </em> ensemble. Now we are going to compare it with the relation between $\\beta$ and $E$ according to the <em> canonical </em> ensemble. "
   ]
  },
  {
   "cell_type": "markdown",
   "id": "061b141c-fb6b-4d13-a9fb-62e5e9c4c90d",
   "metadata": {},
   "source": [
    "Use the spectra computed above to compute and plot the function\n",
    "\\begin{equation}\n",
    "e_{canonical}(\\beta)=\\frac{1}{L}\\frac{\\mathrm{Tr}[H e^{-\\beta H}]}{\\mathrm{Tr}[e^{-\\beta H}]}.\n",
    "\\end{equation}"
   ]
  },
  {
   "cell_type": "markdown",
   "id": "6ea913ad-b16c-406c-ae8b-4b7a9090e245",
   "metadata": {},
   "source": [
    "Check that it doesn't depend on $L$, and compare it with the microcanonical prediction in the Gaussian approximation"
   ]
  },
  {
   "cell_type": "code",
   "execution_count": null,
   "id": "e25e36dc-4ce7-4c4a-8223-67c4c5fd3b02",
   "metadata": {},
   "outputs": [],
   "source": []
  },
  {
   "cell_type": "markdown",
   "id": "d94ae3a9-a8d9-4da2-bb99-8bbb066c60d1",
   "metadata": {},
   "source": [
    "The results agree near the maximum of $S(E)$. To get a better agreement between the canonical and microcanonical result, we need to go beyond the Gaussian approximation."
   ]
  },
  {
   "cell_type": "markdown",
   "id": "b4ec0f68-b126-407b-8cb2-4f6955341562",
   "metadata": {},
   "source": [
    "Use the canonical result for $\\beta(e)$ to compute the extensive heat capacity, $C=\\beta^2/(\\partial^2 S/\\partial E^2)$. Plot $C/L$ as a function of $\\beta$."
   ]
  },
  {
   "cell_type": "code",
   "execution_count": null,
   "id": "4d68323d-ac1d-4544-8b38-4ed28c3e284f",
   "metadata": {},
   "outputs": [],
   "source": []
  }
 ],
 "metadata": {
  "kernelspec": {
   "display_name": "Python 3 (ipykernel)",
   "language": "python",
   "name": "python3"
  },
  "language_info": {
   "codemirror_mode": {
    "name": "ipython",
    "version": 3
   },
   "file_extension": ".py",
   "mimetype": "text/x-python",
   "name": "python",
   "nbconvert_exporter": "python",
   "pygments_lexer": "ipython3",
   "version": "3.9.15"
  }
 },
 "nbformat": 4,
 "nbformat_minor": 5
}
