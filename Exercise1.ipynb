{
 "cells": [
  {
   "cell_type": "code",
   "execution_count": 1,
   "id": "4fba8381-2c0a-45e8-90d8-9152c618b597",
   "metadata": {},
   "outputs": [],
   "source": [
    "import numpy as np\n",
    "import matplotlib.pyplot as plt\n",
    "from EDnosym import operator\n",
    "from scipy.sparse.linalg import expm_multiply"
   ]
  },
  {
   "cell_type": "markdown",
   "id": "aa260ab6-55f4-4239-bb10-438a82fb8413",
   "metadata": {},
   "source": [
    "# Exercise 1: quench dynamics and eigenstate thermalization hypothesis"
   ]
  },
  {
   "cell_type": "markdown",
   "id": "2e0200f3-fd81-4c89-a2ff-e4a49f5a6a43",
   "metadata": {},
   "source": [
    "In this exercise, we will study the quench dynamics in a mixed-field quantum Ising chain. \n",
    "The Hamiltonian of the model has the following expression:\n",
    "\\begin{equation}\n",
    "H=\\sum_{j=0}^{L-1} (-JZ_j Z_{j+1}-gX_j-hZ_j).\n",
    "\\end{equation}"
   ]
  },
  {
   "cell_type": "markdown",
   "id": "32c4c17a-e0e8-4a88-accf-121fcb7aa982",
   "metadata": {},
   "source": [
    "Here, $X$ and $Z$ are Pauli matrices, and we assume periodic boundary conditions. In our notation:\n",
    "\\begin{equation}\n",
    "Z=|0\\rangle\\langle 0|-|1\\rangle\\langle 1|,\n",
    "\\end{equation}\n",
    "\\begin{equation}\n",
    "X=|0\\rangle\\langle 1|+|1\\rangle\\langle 0|.\n",
    "\\end{equation}"
   ]
  },
  {
   "cell_type": "code",
   "execution_count": 2,
   "id": "77d6e9ce-faae-4081-8cc6-1ec062f5bb52",
   "metadata": {},
   "outputs": [],
   "source": [
    "Z = np.array([[1, 0],\n",
    "              [0, -1]])\n",
    "X = np.array([[0, 1],\n",
    "              [1, 0]])"
   ]
  },
  {
   "cell_type": "markdown",
   "id": "947629c1-353d-4828-87f4-8a5b24139567",
   "metadata": {},
   "source": [
    "We set the parameters of the simulation:"
   ]
  },
  {
   "cell_type": "code",
   "execution_count": 3,
   "id": "a2acf22e-cbc9-4654-9e1d-941388134667",
   "metadata": {},
   "outputs": [],
   "source": [
    "J =  1\n",
    "g = 0.9045\n",
    "h = 0.890"
   ]
  },
  {
   "cell_type": "code",
   "execution_count": 4,
   "id": "90de4ccf-f2a4-4edf-943c-03725062a24a",
   "metadata": {},
   "outputs": [],
   "source": [
    "L = 4"
   ]
  },
  {
   "cell_type": "markdown",
   "id": "5d244273-f155-42c5-99a1-9e67908666f3",
   "metadata": {},
   "source": [
    "## Hamiltonian construction"
   ]
  },
  {
   "cell_type": "markdown",
   "id": "84a6951c-6f79-4912-af8c-fd89f9eb2667",
   "metadata": {},
   "source": [
    "The following line constructs the nearest-neighbor Ising interaction terms of the Hamiltonian"
   ]
  },
  {
   "cell_type": "code",
   "execution_count": 5,
   "id": "ecf1d4db-cb1e-43d4-a99e-500edac96344",
   "metadata": {},
   "outputs": [],
   "source": [
    "H = -J*sum([operator(sites = [j,(j+1)%L], matrices = [Z, Z], L = L) for j in range(L)])"
   ]
  },
  {
   "cell_type": "markdown",
   "id": "75de9c62-6fc9-4995-b323-da538b97ca02",
   "metadata": {},
   "source": [
    "Add to $H$ the other terms, corresponding to the transverse and longitudinal field"
   ]
  },
  {
   "cell_type": "code",
   "execution_count": null,
   "id": "27482505-616e-4c63-9eca-94b81d0f2c93",
   "metadata": {},
   "outputs": [],
   "source": [
    "H += # <-----\n",
    "H += # <-----"
   ]
  },
  {
   "cell_type": "markdown",
   "id": "ed978253-007d-49d1-8355-6cdde7d673e5",
   "metadata": {},
   "source": [
    "## Time evolution"
   ]
  },
  {
   "cell_type": "markdown",
   "id": "4ed4a758-4253-4de7-ae18-5c9d9bee3c16",
   "metadata": {},
   "source": [
    "We initialize the system in the state $|11..\\rangle$."
   ]
  },
  {
   "cell_type": "code",
   "execution_count": null,
   "id": "6f3cbb0e-4996-4d0b-85b2-d5b684c08dcf",
   "metadata": {},
   "outputs": [],
   "source": [
    "psi = np.zeros(2**L)\n",
    "psi[int('1'*L, 2)] = 1 "
   ]
  },
  {
   "cell_type": "markdown",
   "id": "fdf2e294-b57d-4db7-a739-0729a4c60ba5",
   "metadata": {},
   "source": [
    "Define Z0 as the $Z$ operator on the site $j=0$"
   ]
  },
  {
   "cell_type": "code",
   "execution_count": null,
   "id": "7997e5c7-40f9-4a62-9343-dfbabe37a10d",
   "metadata": {},
   "outputs": [],
   "source": [
    "Z0 = # <-----"
   ]
  },
  {
   "cell_type": "markdown",
   "id": "d2c7f2c0-6acf-4e5a-add4-a842a60e2c6e",
   "metadata": {},
   "source": [
    "We set the parameters of the time evolution:"
   ]
  },
  {
   "cell_type": "code",
   "execution_count": null,
   "id": "4370800a-4900-492e-8d0b-84cb8e1837f7",
   "metadata": {},
   "outputs": [],
   "source": [
    "dt = 0.02 # timestep\n",
    "Nt = 200  # number of steps\n",
    "time = dt*np.arange(Nt)"
   ]
  },
  {
   "cell_type": "markdown",
   "id": "6405af88-9b83-4f6d-8523-63206a0da3bd",
   "metadata": {},
   "source": [
    "We are going to measure $Z_0$ and $H$ (to check energy conservation) along the evolution. We define the empty vectors where to store their values."
   ]
  },
  {
   "cell_type": "code",
   "execution_count": null,
   "id": "210d2967-20ad-4a4e-abd9-41e9f333abc7",
   "metadata": {},
   "outputs": [],
   "source": [
    "Z0val = np.zeros(Nt)\n",
    "Hval = np.zeros(Nt)"
   ]
  },
  {
   "cell_type": "code",
   "execution_count": null,
   "id": "a2e467d5-89c6-4730-b833-68fd90d6cfa2",
   "metadata": {},
   "outputs": [],
   "source": [
    "for i in range(Nt):\n",
    "    psi = expm_multiply(-1j*H*dt, psi)\n",
    "    Z0val[i] = # <----- define expectation values\n",
    "    Hval[i] = # <-----------"
   ]
  },
  {
   "cell_type": "markdown",
   "id": "c63e5c1c-7f7a-4761-bc11-b26f79b13848",
   "metadata": {},
   "source": [
    "Check that the final norm of psi is still 1"
   ]
  },
  {
   "cell_type": "code",
   "execution_count": null,
   "id": "b36c6933-27b6-4079-ab8c-705e9f302d02",
   "metadata": {},
   "outputs": [],
   "source": [
    "norm = # <-----\n",
    "print(norm)"
   ]
  },
  {
   "cell_type": "markdown",
   "id": "e977372c-582d-48a6-8097-b2fc81f5743e",
   "metadata": {},
   "source": [
    "## Results"
   ]
  },
  {
   "cell_type": "markdown",
   "id": "a617688a-cbf4-4c0d-90f4-e650a6930772",
   "metadata": {},
   "source": [
    "Plot Hval vs time"
   ]
  },
  {
   "cell_type": "code",
   "execution_count": null,
   "id": "e543008b-f3f8-4bcb-a2f7-e87a06f7d8a3",
   "metadata": {},
   "outputs": [],
   "source": []
  },
  {
   "cell_type": "markdown",
   "id": "626faafb-1540-4eff-b862-259f65b3780b",
   "metadata": {},
   "source": [
    "Plot Z0val vs time"
   ]
  },
  {
   "cell_type": "code",
   "execution_count": null,
   "id": "52b6ac82-1ddb-4e14-ac69-7ca9b8f323ca",
   "metadata": {},
   "outputs": [],
   "source": []
  },
  {
   "cell_type": "markdown",
   "id": "c8e64852-4ec5-4360-8c8e-eee233f612ce",
   "metadata": {},
   "source": [
    "## Dependence on system size"
   ]
  },
  {
   "cell_type": "markdown",
   "id": "49aa7f4d-511e-4568-8dec-22aba6c32ba9",
   "metadata": {},
   "source": [
    "Plot Z0val vs time for $L=4,6,8,10,12$. What do you observe?"
   ]
  },
  {
   "cell_type": "code",
   "execution_count": null,
   "id": "a84b5da7-3ba4-4241-b952-a5d053ba4a79",
   "metadata": {},
   "outputs": [],
   "source": []
  },
  {
   "cell_type": "markdown",
   "id": "78f37716-f78a-413c-800f-b454c4b004eb",
   "metadata": {},
   "source": [
    "This result shows one important aspect in the definition of thermal equilibrium: we first have to take the thermodynamic limit $L\\rightarrow \\infty$ before taking the infinite time limit.\n"
   ]
  },
  {
   "cell_type": "markdown",
   "id": "038199f0-f094-49f7-a6a7-40d408415323",
   "metadata": {},
   "source": [
    "## Eigenstate thermalization"
   ]
  },
  {
   "cell_type": "markdown",
   "id": "7b90066d-f6b7-469d-ac2e-113d1fc18d21",
   "metadata": {},
   "source": [
    "Now we will see what eigenstate thermalization hypothesis can teach us about the quench dynamics above. We will start by computing the expectation value according to the diagonal ensemble."
   ]
  },
  {
   "cell_type": "markdown",
   "id": "ab466706-f62d-4e04-9735-221cf4806a9a",
   "metadata": {},
   "source": [
    "We start by constructing $H$ for $L=12$, as we did above."
   ]
  },
  {
   "cell_type": "code",
   "execution_count": null,
   "id": "0cc034c2-3760-41b1-bced-4146df5ecb75",
   "metadata": {},
   "outputs": [],
   "source": [
    "L=12\n",
    "\n",
    "H = -J*sum([operator(sites = [j,(j+1)%L], matrices = [Z, Z], L = L) for j in range(L)])\n",
    "H += # <-----\n",
    "H += # <-----"
   ]
  },
  {
   "cell_type": "markdown",
   "id": "b8706ddb-446e-4bc0-a09c-e4f0c8e5b919",
   "metadata": {},
   "source": [
    "The Hamiltonian $H$ is defined as a sparse matrix. To perform full diagonalization, we first have to transform it to a dense matrix:"
   ]
  },
  {
   "cell_type": "code",
   "execution_count": null,
   "id": "e30180ed-f8c8-49b3-9a61-5d800063b269",
   "metadata": {},
   "outputs": [],
   "source": [
    "Hdense = H.toarray()\n",
    "eigvals, eigvec = np.linalg.eigh(Hdense)"
   ]
  },
  {
   "cell_type": "markdown",
   "id": "8ae8f447-fce0-4629-9d04-5cbc520526b3",
   "metadata": {},
   "source": [
    "We then compute the overlaps $C_n$ of the initial state with the energy eigenstates, and plot $|C_n|$ as a function of the energy eigenvalues $E_n$. Show that the overlaps $|C_n|$ are peaked around $E_0=\\langle \\psi_0|H|\\psi_0\\rangle$."
   ]
  },
  {
   "cell_type": "code",
   "execution_count": null,
   "id": "5204e3d6-f146-4dce-9d39-41444640339f",
   "metadata": {},
   "outputs": [],
   "source": [
    "psi = np.zeros(2**L)\n",
    "psi[int('1'*L, 2)] = 1 \n",
    "\n",
    "cn = # <-----"
   ]
  },
  {
   "cell_type": "code",
   "execution_count": null,
   "id": "95b29d51-02a4-40b8-a7d0-ef19d9a62ba8",
   "metadata": {},
   "outputs": [],
   "source": [
    "E0 = # <-----"
   ]
  },
  {
   "cell_type": "code",
   "execution_count": null,
   "id": "69a8025b-1151-4124-a1cf-f9620f494dcd",
   "metadata": {},
   "outputs": [],
   "source": [
    "plt.plot(eigvals, cn, '.')\n",
    "plt.xlabel(r'$E_n$')\n",
    "plt.ylabel(r'$|C_n|$')\n",
    "plt.axvline(E0, color='C3')"
   ]
  },
  {
   "cell_type": "markdown",
   "id": "45616be5-4730-4424-8e53-aaf01f76d186",
   "metadata": {},
   "source": [
    "Now we construct $Z_0$, and use the eigenvectors that we just computed to transform it from the computational basis to the energy eigenbasis."
   ]
  },
  {
   "cell_type": "code",
   "execution_count": null,
   "id": "8a9ad86f-12ac-41d2-943d-8fda11515908",
   "metadata": {},
   "outputs": [],
   "source": [
    "Z0 = # <-----\n",
    "Z0nm = # <----- matrix representation of Z_0 in the energy eigenbasis"
   ]
  },
  {
   "cell_type": "markdown",
   "id": "44e92c7b-45c2-4c05-a9ad-752d51ef5b5c",
   "metadata": {},
   "source": [
    "Now we can compute the expectation value of $Z_0$ according to the diagonal ensemble."
   ]
  },
  {
   "cell_type": "code",
   "execution_count": null,
   "id": "9bc75748-219d-438b-825c-9ec355427ec7",
   "metadata": {},
   "outputs": [],
   "source": [
    "Z0_DE = # <-----"
   ]
  },
  {
   "cell_type": "markdown",
   "id": "03c9a6e2-a1ff-496f-89f9-395b3dfdb1f0",
   "metadata": {},
   "source": [
    "Plot the diagonal elements $(Z_0)_{nn}$ vs $E_n$. They have a smooth dependence according to ETH. Indicate in the plot the energy $E_0$ and the prediction $(Z_0)_{DE}$ of the diagonal ensemble. Does the prediction of the diagonal ensemble agree with ETH?"
   ]
  },
  {
   "cell_type": "code",
   "execution_count": null,
   "id": "23f0e82a-4421-4b8d-b9ac-76038672a559",
   "metadata": {},
   "outputs": [],
   "source": []
  },
  {
   "cell_type": "markdown",
   "id": "f1d9d292-cf17-45e5-8da8-c726a227f33c",
   "metadata": {},
   "source": [
    "The matrix elements $Z_{nn}$ that we are plotting here do not all contribute to the diagonal ensemble. In fact, due to symmetries, many energy eigenstates have zero overlap with the initial state. To check it, plot $|C_n|$ vs $E_n$ in y-log scale and identify the indices of the eigenstates that have nonzero overlap with the initial state."
   ]
  },
  {
   "cell_type": "code",
   "execution_count": null,
   "id": "14b0f757-7452-477c-ab6b-028c7fd5dd7b",
   "metadata": {},
   "outputs": [],
   "source": []
  },
  {
   "cell_type": "code",
   "execution_count": null,
   "id": "f03f5f1d-1eeb-48ad-adf0-ba9f7b93e368",
   "metadata": {},
   "outputs": [],
   "source": [
    "nonzero_indices = # <-------"
   ]
  },
  {
   "cell_type": "markdown",
   "id": "7dd25ada-a91a-435c-9a85-cb89988d3c47",
   "metadata": {},
   "source": [
    "Now plot the diagonal elements $(Z_0)_{nn}$ vs $E_n$ including only the indices corresponding to states with nonzero overlaps."
   ]
  },
  {
   "cell_type": "code",
   "execution_count": null,
   "id": "8bdfd68b-1ad8-48a9-9f4e-f2d20a0e3591",
   "metadata": {},
   "outputs": [],
   "source": []
  },
  {
   "cell_type": "markdown",
   "id": "29ec1d02-3931-4a6f-8806-878a04ef672e",
   "metadata": {
    "tags": []
   },
   "source": [
    "### Bonus: off-diagonal part"
   ]
  },
  {
   "cell_type": "markdown",
   "id": "fd95bca4-7def-4e20-a4eb-f69c17bc9b83",
   "metadata": {},
   "source": [
    "Now we are going to examine the off-diagonal elements $(Z_0)_{nm}$. For simplicity, let us restrict to indices corresponding to eigenstates with non-zero overlap with $\\psi_0$."
   ]
  },
  {
   "cell_type": "code",
   "execution_count": null,
   "id": "6f25d3d8-bef9-409d-a358-ef86fca255ed",
   "metadata": {},
   "outputs": [],
   "source": [
    "Z0_sector = Z0nm[nonzero_indices][:, nonzero_indices]\n",
    "# the matrix Z0_sector contains the elements of Z_0\n",
    "# belonging to rows and columns in nonzero_indices\n",
    "\n",
    "eigvals_sector = eigvals[nonzero_indices]\n",
    "# this vector contains the Hamiltonian eigenvalues in the non"
   ]
  },
  {
   "cell_type": "markdown",
   "id": "20520838-9a38-4052-b384-f3c0f789f91f",
   "metadata": {},
   "source": [
    "Plot the absolute value of $(Z_0)_{nm}$ as a 2D-plot, with $E_n$, $E_m$ on the axes."
   ]
  },
  {
   "cell_type": "code",
   "execution_count": null,
   "id": "a037409f-9cf5-4b3e-98d1-aff6ec583302",
   "metadata": {},
   "outputs": [],
   "source": []
  },
  {
   "cell_type": "markdown",
   "id": "3418d2c9-fe5f-48a4-b02e-45119e8d80f0",
   "metadata": {},
   "source": [
    "We define the variables $\\overline{E}_{nm}=(E_n+E_m)/2$ and $\\omega_{nm}=E_n-E_m$."
   ]
  },
  {
   "cell_type": "code",
   "execution_count": null,
   "id": "0610e798-2cbb-4e8b-bb53-35ac07bdc13f",
   "metadata": {},
   "outputs": [],
   "source": [
    "Ebar = # <--------\n",
    "omega = # <--------"
   ]
  },
  {
   "cell_type": "markdown",
   "id": "b0d775d9-0aaa-4943-8410-a1754ae55e3d",
   "metadata": {},
   "source": [
    "Plot the matrix element $(Z_0)_{nm}$ as a function of $\\omega_{nm}$ for states in an energy window $\\overline E_{nm} \\in [E-dE, E+dE]$. What is the dependence of $f_{Z_0}(E, \\omega)$ at large $\\omega$?"
   ]
  },
  {
   "cell_type": "code",
   "execution_count": null,
   "id": "28cbbe5b-3292-455e-a60f-b2872f5370f3",
   "metadata": {},
   "outputs": [],
   "source": [
    "E = 0\n",
    "dE =0.1\n",
    "# ...."
   ]
  },
  {
   "cell_type": "code",
   "execution_count": null,
   "id": "93b27060-795c-4f4c-9249-d2555ee36ed6",
   "metadata": {},
   "outputs": [],
   "source": []
  }
 ],
 "metadata": {
  "kernelspec": {
   "display_name": "Python 3 (ipykernel)",
   "language": "python",
   "name": "python3"
  },
  "language_info": {
   "codemirror_mode": {
    "name": "ipython",
    "version": 3
   },
   "file_extension": ".py",
   "mimetype": "text/x-python",
   "name": "python",
   "nbconvert_exporter": "python",
   "pygments_lexer": "ipython3",
   "version": "3.9.15"
  }
 },
 "nbformat": 4,
 "nbformat_minor": 5
}
